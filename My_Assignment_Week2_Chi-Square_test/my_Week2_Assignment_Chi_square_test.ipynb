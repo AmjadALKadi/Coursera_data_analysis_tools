{
 "cells": [
  {
   "cell_type": "markdown",
   "id": "ddf94a1b",
   "metadata": {},
   "source": [
    "# Data Analysis Tools-Assignment 2(Coursera)\n",
    "## Chi Square Test(Bonferroni Adjustment Post Hoc)"
   ]
  },
  {
   "cell_type": "markdown",
   "id": "7746bdd9",
   "metadata": {},
   "source": [
    "## Study association between student's Exercise and Smoke \n",
    "\n",
    "In this assignment, we are required to run a chi-squared test of independence. To do so, we used a survey dataset that contains the responses of 237 Statistics I students at the University of Adelaide to a number of questions. We selected a subset of the data consisting of \"Exer\" and \"Smoke\" features because we want to study the dependence between Exercise and Smoke:\n",
    "\n",
    "\n",
    "- **Exercise**: \n",
    "               how often the student exercises- \n",
    "               \"Freq\" (frequently), \"Some\", \"None\".\n",
    "\n",
    "- **Smoke**:\n",
    "               how much the student smokes-\n",
    "               \"Heavy\", \"Regul\" (regularly), \"Occas\" (occasionally), \"Never\".\n",
    "\n",
    "The **null hypothesis** is that the frequency of student's smoking is not associated with the frequency of student's exercise. To make problem simpler, we classified \"Exercise\" into two levels: \"Yes\" for combining \"Freq\" and \"Some\", meaning student exercises and \"None\" meaning student does not exercise. We also recoded the categorical values into numeric values. That is,\n",
    "- **Exercise**: \n",
    "             \"None\" -> 0, \n",
    "             \"Freq\" & \"Some\" -> 1 (\"Yes\").\n",
    "                 \n",
    "- **Smoke**: \n",
    "             \"Never\" -> 1,\n",
    "             \"Occas\" -> 2, \n",
    "             \"Regul\" -> 3, \n",
    "             \"Heavy\" -> 4."
   ]
  },
  {
   "cell_type": "code",
   "execution_count": 2,
   "id": "59dedf2c",
   "metadata": {},
   "outputs": [],
   "source": [
    "import pandas as pd\n",
    "import numpy as np\n",
    "import seaborn as sns\n",
    "import matplotlib.pyplot as plt\n",
    "import scipy.stats"
   ]
  },
  {
   "cell_type": "markdown",
   "id": "4a6dd06d",
   "metadata": {},
   "source": [
    "\n",
    "\n",
    "### Data - Bike Sharing Demand\n",
    "\n",
    "[The data sheet](https://www.kaggle.com/c/bike-sharing-demand/data).<br>\n",
    "\n",
    "This is the hourly bike rental data for Washington. We consider two categorical variables namely the **Month** and the **Weather** from the data.<br>\n",
    "We try to infer if the Month has an impact on the Weather."
   ]
  },
  {
   "cell_type": "code",
   "execution_count": 3,
   "id": "6449097d",
   "metadata": {
    "scrolled": true
   },
   "outputs": [
    {
     "data": {
      "text/html": [
       "<div>\n",
       "<style scoped>\n",
       "    .dataframe tbody tr th:only-of-type {\n",
       "        vertical-align: middle;\n",
       "    }\n",
       "\n",
       "    .dataframe tbody tr th {\n",
       "        vertical-align: top;\n",
       "    }\n",
       "\n",
       "    .dataframe thead th {\n",
       "        text-align: right;\n",
       "    }\n",
       "</style>\n",
       "<table border=\"1\" class=\"dataframe\">\n",
       "  <thead>\n",
       "    <tr style=\"text-align: right;\">\n",
       "      <th></th>\n",
       "      <th>ID</th>\n",
       "      <th>Exercise</th>\n",
       "      <th>Smoke</th>\n",
       "    </tr>\n",
       "  </thead>\n",
       "  <tbody>\n",
       "    <tr>\n",
       "      <th>0</th>\n",
       "      <td>1</td>\n",
       "      <td>Some</td>\n",
       "      <td>Never</td>\n",
       "    </tr>\n",
       "    <tr>\n",
       "      <th>1</th>\n",
       "      <td>2</td>\n",
       "      <td>None</td>\n",
       "      <td>Regul</td>\n",
       "    </tr>\n",
       "    <tr>\n",
       "      <th>2</th>\n",
       "      <td>3</td>\n",
       "      <td>None</td>\n",
       "      <td>Occas</td>\n",
       "    </tr>\n",
       "    <tr>\n",
       "      <th>3</th>\n",
       "      <td>4</td>\n",
       "      <td>None</td>\n",
       "      <td>Never</td>\n",
       "    </tr>\n",
       "    <tr>\n",
       "      <th>4</th>\n",
       "      <td>5</td>\n",
       "      <td>Some</td>\n",
       "      <td>Never</td>\n",
       "    </tr>\n",
       "  </tbody>\n",
       "</table>\n",
       "</div>"
      ],
      "text/plain": [
       "   ID Exercise  Smoke\n",
       "0   1     Some  Never\n",
       "1   2     None  Regul\n",
       "2   3     None  Occas\n",
       "3   4     None  Never\n",
       "4   5     Some  Never"
      ]
     },
     "execution_count": 3,
     "metadata": {},
     "output_type": "execute_result"
    }
   ],
   "source": [
    "#Data preparation and transformation\n",
    "df = pd.read_csv('Survey.csv')\n",
    "data1 = df.dropna()\n",
    "data1.head()"
   ]
  },
  {
   "cell_type": "code",
   "execution_count": 72,
   "id": "60674114",
   "metadata": {},
   "outputs": [],
   "source": [
    "newdata= data1.copy()"
   ]
  },
  {
   "cell_type": "code",
   "execution_count": 4,
   "id": "510e56e4",
   "metadata": {
    "scrolled": true
   },
   "outputs": [
    {
     "name": "stdout",
     "output_type": "stream",
     "text": [
      "<class 'pandas.core.frame.DataFrame'>\n",
      "Int64Index: 236 entries, 0 to 236\n",
      "Data columns (total 3 columns):\n",
      " #   Column    Non-Null Count  Dtype \n",
      "---  ------    --------------  ----- \n",
      " 0   ID        236 non-null    int64 \n",
      " 1   Exercise  236 non-null    object\n",
      " 2   Smoke     236 non-null    object\n",
      "dtypes: int64(1), object(2)\n",
      "memory usage: 7.4+ KB\n"
     ]
    }
   ],
   "source": [
    "#Data exploration\n",
    "data1.info()"
   ]
  },
  {
   "cell_type": "code",
   "execution_count": 43,
   "id": "fbf05ab9",
   "metadata": {},
   "outputs": [],
   "source": [
    "r_ex = {\"Freq\":1, \"None\":0, \"Some\":1}\n",
    "r_sm = {\"Never\":1, \"Occas\":2, \"Regul\":3, \"Heavy\":4}"
   ]
  },
  {
   "cell_type": "code",
   "execution_count": 44,
   "id": "9eb96abc",
   "metadata": {},
   "outputs": [],
   "source": [
    "data2 =data1.copy()"
   ]
  },
  {
   "cell_type": "code",
   "execution_count": 45,
   "id": "306eb071",
   "metadata": {},
   "outputs": [],
   "source": [
    "data2['Exercise'] = data2['Exercise'].map(r_ex)\n",
    "data2['Smoke'] =data2['Smoke'].map(r_sm)"
   ]
  },
  {
   "cell_type": "code",
   "execution_count": 46,
   "id": "e6570fad",
   "metadata": {},
   "outputs": [
    {
     "name": "stdout",
     "output_type": "stream",
     "text": [
      "Smoke       1   2   3   4\n",
      "Exercise                 \n",
      "0          18   3   1   1\n",
      "1         171  16  16  10\n"
     ]
    }
   ],
   "source": [
    "sub1 = pd.crosstab(data2['Exercise'],data2['Smoke'])\n",
    "print(sub1)"
   ]
  },
  {
   "cell_type": "markdown",
   "id": "319c9c3d",
   "metadata": {},
   "source": [
    "### note\n",
    "We first look at the percentages of the columns of the contingency table as follows.\n",
    "  The column percentages indicate that there may be no association between student exercise and smoke because as smoking frequency increases, exercise frequency (“1”) or no exercise (“0”) has no monotonic pattern."
   ]
  },
  {
   "cell_type": "code",
   "execution_count": 47,
   "id": "afdf9f3d",
   "metadata": {},
   "outputs": [
    {
     "name": "stdout",
     "output_type": "stream",
     "text": [
      "Smoke            1         2         3         4\n",
      "Exercise                                        \n",
      "0         0.095238  0.157895  0.058824  0.090909\n",
      "1         0.904762  0.842105  0.941176  0.909091\n"
     ]
    }
   ],
   "source": [
    "sumcol = sub1.sum(axis=0)\n",
    "colpct = sub1/sumcol\n",
    "print(colpct)"
   ]
  },
  {
   "cell_type": "code",
   "execution_count": 48,
   "id": "fc264458",
   "metadata": {},
   "outputs": [
    {
     "name": "stdout",
     "output_type": "stream",
     "text": [
      "chi-square value, p value, degree freedom\n",
      "(1.093423342257849, 0.7786619476134771, 3)\n",
      "Expected counts\n",
      "(array([[ 18.41949153,   1.85169492,   1.65677966,   1.0720339 ],\n",
      "       [170.58050847,  17.14830508,  15.34322034,   9.9279661 ]]),)\n"
     ]
    }
   ],
   "source": [
    "print(\"chi-square value, p value, degree freedom\")\n",
    "cs1 = scipy.stats.chi2_contingency(sub1)\n",
    "print(cs1[0:3])\n",
    "print(\"Expected counts\")\n",
    "print(cs1[3:4])"
   ]
  },
  {
   "cell_type": "markdown",
   "id": "d546b631",
   "metadata": {},
   "source": [
    "## chi-square test Results\n",
    "\n",
    "  The chi-square statistic is 1.093 with 3 degrees of freedom,\n",
    "  p-value = 0.779 which is significantly greater than the significant level of 0.05.\n",
    "   We do not have sufficient evidence to reject the null hypothesis. That is, there is no correlation between the student's exercise and smoking in terms of frequency. This is also verified by the bar chart shown below."
   ]
  },
  {
   "cell_type": "code",
   "execution_count": 49,
   "id": "67948327",
   "metadata": {},
   "outputs": [
    {
     "name": "stderr",
     "output_type": "stream",
     "text": [
      "C:\\Users\\a\\AppData\\Roaming\\Python\\Python38\\site-packages\\seaborn\\categorical.py:3717: UserWarning: The `factorplot` function has been renamed to `catplot`. The original name will be removed in a future release. Please update your code. Note that the default `kind` in `factorplot` (`'point'`) has changed `'strip'` in `catplot`.\n",
      "  warnings.warn(msg)\n"
     ]
    },
    {
     "data": {
      "text/plain": [
       "Text(6.799999999999997, 0.5, 'Proportion Exercise')"
      ]
     },
     "execution_count": 49,
     "metadata": {},
     "output_type": "execute_result"
    },
    {
     "data": {
      "image/png": "[encoded data removed]",
      "text/plain": [
       "<Figure size 360x360 with 1 Axes>"
      ]
     },
     "metadata": {
      "needs_background": "light"
     },
     "output_type": "display_data"
    }
   ],
   "source": [
    "### plot the result\n",
    "\n",
    "sns.factorplot(x=\"Smoke\", y=\"Exercise\", data=data2, kind=\"bar\", ci=None)\n",
    "plt.xlabel('Smoke')\n",
    "plt.ylabel('Proportion Exercise')\n"
   ]
  },
  {
   "cell_type": "markdown",
   "id": "c122a41d",
   "metadata": {},
   "source": [
    "## Bonferroni Adjustment for Chi Square\n",
    "\n",
    "The chi-square test is not significant,\n",
    " we perform post hoc comparison just for exercise. \n",
    "We first define a function to run the chi-square test for each comparison of smoking, such as \"Never\" vs \"Occas\". \n",
    "The Bonferrnoi adjustment p-value is 0.05/6 = 0.0083. In other words,\n",
    " the difference of comparison like \"Never\" vs \"Occas\" is significant if the p-value is smaller than 0.0083. "
   ]
  },
  {
   "cell_type": "code",
   "execution_count": 76,
   "id": "06dc99c8",
   "metadata": {},
   "outputs": [],
   "source": [
    "#function to calculate the comparison between each pairs of smoke\n",
    "\n",
    "def comp(smk_level_cmp):\n",
    "    ctab = pd.crosstab(data1['Exercise'].map(r_ex),data1['Smoke'].map(smk_level_cmp))\n",
    "    colsum = ctab.sum(axis = 0)\n",
    "    colpct = ctab/colsum\n",
    "    print(colpct)\n",
    "    print(\"------------------------------\")\n",
    "    cs =  scipy.stats.chi2_contingency(ctab)\n",
    "    print(\"chi-square value, p value, degree freedom\")\n",
    "    print(cs[0:3])\n",
    "    "
   ]
  },
  {
   "cell_type": "code",
   "execution_count": 80,
   "id": "d08c35a7",
   "metadata": {},
   "outputs": [
    {
     "name": "stdout",
     "output_type": "stream",
     "text": [
      "'Never' vs 'Occas'\n",
      "Smoke          1.0       2.0\n",
      "Exercise                    \n",
      "0         0.095238  0.157895\n",
      "1         0.904762  0.842105\n",
      "------------------------------\n",
      "chi-square value, p value, degree freedom\n",
      "(0.21595226784670993, 0.6421415475803934, 1)\n"
     ]
    }
   ],
   "source": [
    "print(\"'Never' vs 'Occas'\") \n",
    "comp({\"Never\":1, \"Occas\":2})  "
   ]
  },
  {
   "cell_type": "code",
   "execution_count": 81,
   "id": "b6f8f4d6",
   "metadata": {},
   "outputs": [
    {
     "name": "stdout",
     "output_type": "stream",
     "text": [
      "'Never' vs 'Regul'\n",
      "Smoke          1.0       3.0\n",
      "Exercise                    \n",
      "0         0.095238  0.058824\n",
      "1         0.904762  0.941176\n",
      "------------------------------\n",
      "chi-square value, p value, degree freedom\n",
      "(0.0035368558406256396, 0.952576588238473, 1)\n"
     ]
    }
   ],
   "source": [
    "#make for other paris \"Never\" & \"Regul\"\n",
    "print(\"'Never' vs 'Regul'\")    \n",
    "comp({\"Never\":1, \"Regul\":3})"
   ]
  },
  {
   "cell_type": "code",
   "execution_count": 82,
   "id": "de7487e9",
   "metadata": {},
   "outputs": [
    {
     "name": "stdout",
     "output_type": "stream",
     "text": [
      "'Never' vs 'Heavy'\n",
      "Smoke          1.0       4.0\n",
      "Exercise                    \n",
      "0         0.095238  0.090909\n",
      "1         0.904762  0.909091\n",
      "------------------------------\n",
      "chi-square value, p value, degree freedom\n",
      "(0.0, 1.0, 1)\n"
     ]
    }
   ],
   "source": [
    "#make for other paris \"Never\" & \"Heavy\"\n",
    "print(\"'Never' vs 'Heavy'\")    \n",
    "comp({\"Never\":1, \"Heavy\":4})"
   ]
  },
  {
   "cell_type": "code",
   "execution_count": 70,
   "id": "0a1ff6b3",
   "metadata": {},
   "outputs": [
    {
     "name": "stdout",
     "output_type": "stream",
     "text": [
      "'Occas' vs 'Regul'\n",
      "Smoke          2.0       3.0\n",
      "Exercise                    \n",
      "0         0.157895  0.058824\n",
      "1         0.842105  0.941176\n",
      "------------------------------\n",
      "chi-square value, p value, degree freedom\n",
      "(0.17066563467492257, 0.6795209134209836, 1)\n"
     ]
    }
   ],
   "source": [
    "#make for other paris \"Occas\" & \"Regul\"\n",
    "print(\"'Occas' vs 'Regul'\")    \n",
    "comp({\"Occas\":2, \"Regul\":3})"
   ]
  },
  {
   "cell_type": "code",
   "execution_count": 71,
   "id": "a56c8e17",
   "metadata": {},
   "outputs": [
    {
     "name": "stdout",
     "output_type": "stream",
     "text": [
      "'Occas' vs 'Heavy'\n",
      "Smoke          2.0       4.0\n",
      "Exercise                    \n",
      "0         0.157895  0.090909\n",
      "1         0.842105  0.909091\n",
      "------------------------------\n",
      "chi-square value, p value, degree freedom\n",
      "(0.0, 1.0, 1)\n"
     ]
    }
   ],
   "source": [
    "#make for other paris \"Occas\" & \"Heavy\"\n",
    "print(\"'Occas' vs 'Heavy'\")    \n",
    "comp({\"Occas\":2, \"Heavy\":4})"
   ]
  },
  {
   "cell_type": "code",
   "execution_count": 18,
   "id": "d28ceefb",
   "metadata": {},
   "outputs": [
    {
     "name": "stdout",
     "output_type": "stream",
     "text": [
      "'Regul' vs 'Heavy'\n",
      "Smoke          3.0       4.0\n",
      "Exercise                    \n",
      "0         0.058824  0.090909\n",
      "1         0.941176  0.909091\n",
      "------------------------------\n",
      "chi-square value, p value, degree freedom\n",
      "(0.0, 1.0, 1)\n"
     ]
    }
   ],
   "source": [
    "#make for other paris \"Regul\" & \"Heavy\"\n",
    "print(\"'Regul' vs 'Heavy'\")    \n",
    "comp({\"Regul\":3, \"Heavy\":4})"
   ]
  },
  {
   "cell_type": "markdown",
   "id": "5ba58591",
   "metadata": {},
   "source": [
    "### last result\n",
    "In summary, the six post hoc comparison p-values are listed as follows. They are all greater than 0.0083 which indicates no any difference between the two different frequency of smoking. \n",
    "\n",
    "| Comparison | p-value |Reject Null|\n",
    "|------------|---------|-----------|\n",
    "|\"Never\" vs \"Occas\"| 0.64 |FALSE |\n",
    "|\"Never\" vs \"Regul\"| 0.95 |FALSE |\n",
    "|\"Never\" vs \"Heavy\"| 1.00 |FALSE |\n",
    "|\"Occas\" vs \"Regul\"| 0.68 |FALSE |\n",
    "|\"Occas\" vs \"Heavy\"| 1.00 |FALSE |\n",
    "|\"Regul\" vs \"Heavy\"| 1.00 |FALSE |"
   ]
  },
  {
   "cell_type": "code",
   "execution_count": null,
   "id": "5583fc77",
   "metadata": {},
   "outputs": [],
   "source": []
  }
 ],
 "metadata": {
  "kernelspec": {
   "display_name": "Python 3 (ipykernel)",
   "language": "python",
   "name": "python3"
  },
  "language_info": {
   "codemirror_mode": {
    "name": "ipython",
    "version": 3
   },
   "file_extension": ".py",
   "mimetype": "text/x-python",
   "name": "python",
   "nbconvert_exporter": "python",
   "pygments_lexer": "ipython3",
   "version": "3.8.0"
  }
 },
 "nbformat": 4,
 "nbformat_minor": 5
}
