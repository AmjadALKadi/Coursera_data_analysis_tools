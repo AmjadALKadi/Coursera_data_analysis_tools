{
 "cells": [
  {
   "cell_type": "markdown",
   "id": "da39df4f",
   "metadata": {},
   "source": [
    "# Pearson Correlation"
   ]
  },
  {
   "cell_type": "markdown",
   "id": "f941c87d",
   "metadata": {},
   "source": [
    "### Study the Correlation between O-rings vs temperature and pressure"
   ]
  },
  {
   "cell_type": "code",
   "execution_count": 2,
   "id": "bef17565",
   "metadata": {},
   "outputs": [],
   "source": [
    "\n",
    "import pandas as pd\n",
    "import numpy as np\n",
    "import scipy.stats\n",
    "import seaborn as sns\n",
    "import matplotlib.pylab as plt"
   ]
  },
  {
   "cell_type": "code",
   "execution_count": 5,
   "id": "8e236d3a",
   "metadata": {},
   "outputs": [
    {
     "data": {
      "text/html": [
       "<div>\n",
       "<style scoped>\n",
       "    .dataframe tbody tr th:only-of-type {\n",
       "        vertical-align: middle;\n",
       "    }\n",
       "\n",
       "    .dataframe tbody tr th {\n",
       "        vertical-align: top;\n",
       "    }\n",
       "\n",
       "    .dataframe thead th {\n",
       "        text-align: right;\n",
       "    }\n",
       "</style>\n",
       "<table border=\"1\" class=\"dataframe\">\n",
       "  <thead>\n",
       "    <tr style=\"text-align: right;\">\n",
       "      <th></th>\n",
       "      <th>o_ring_ct</th>\n",
       "      <th>distress_ct</th>\n",
       "      <th>temperature</th>\n",
       "      <th>pressure</th>\n",
       "      <th>launch_id</th>\n",
       "    </tr>\n",
       "  </thead>\n",
       "  <tbody>\n",
       "    <tr>\n",
       "      <th>0</th>\n",
       "      <td>6</td>\n",
       "      <td>0</td>\n",
       "      <td>66</td>\n",
       "      <td>50</td>\n",
       "      <td>1</td>\n",
       "    </tr>\n",
       "    <tr>\n",
       "      <th>1</th>\n",
       "      <td>6</td>\n",
       "      <td>1</td>\n",
       "      <td>70</td>\n",
       "      <td>50</td>\n",
       "      <td>2</td>\n",
       "    </tr>\n",
       "    <tr>\n",
       "      <th>2</th>\n",
       "      <td>6</td>\n",
       "      <td>0</td>\n",
       "      <td>69</td>\n",
       "      <td>50</td>\n",
       "      <td>3</td>\n",
       "    </tr>\n",
       "    <tr>\n",
       "      <th>3</th>\n",
       "      <td>6</td>\n",
       "      <td>0</td>\n",
       "      <td>68</td>\n",
       "      <td>50</td>\n",
       "      <td>4</td>\n",
       "    </tr>\n",
       "    <tr>\n",
       "      <th>4</th>\n",
       "      <td>6</td>\n",
       "      <td>0</td>\n",
       "      <td>67</td>\n",
       "      <td>50</td>\n",
       "      <td>5</td>\n",
       "    </tr>\n",
       "  </tbody>\n",
       "</table>\n",
       "</div>"
      ],
      "text/plain": [
       "   o_ring_ct  distress_ct  temperature  pressure  launch_id\n",
       "0          6            0           66        50          1\n",
       "1          6            1           70        50          2\n",
       "2          6            0           69        50          3\n",
       "3          6            0           68        50          4\n",
       "4          6            0           67        50          5"
      ]
     },
     "execution_count": 5,
     "metadata": {},
     "output_type": "execute_result"
    }
   ],
   "source": [
    "data = pd.read_csv(\"challenger.csv\")\n",
    "#delete all missing value\n",
    "data= data.dropna()\n",
    "#review our data\n",
    "data.head()"
   ]
  },
  {
   "cell_type": "markdown",
   "id": "fde38f1e",
   "metadata": {},
   "source": [
    "We will examine the relationship between\n",
    "\n",
    "**O-rings and launch temperature**, \n",
    "\n",
    "**O-rings and field check pressure, respectively**.\n",
    "\n",
    " To explore the possible Relationship, we first make scatter plots to visualize the linear relationships between \"distress_ct \" and temperature."
   ]
  },
  {
   "cell_type": "code",
   "execution_count": 6,
   "id": "2a40457e",
   "metadata": {},
   "outputs": [
    {
     "data": {
      "text/plain": [
       "Text(0.5, 1.0, 'Scatterplot for the Association Between Temperature and Number of Distressed O-rings')"
      ]
     },
     "execution_count": 6,
     "metadata": {},
     "output_type": "execute_result"
    },
    {
     "data": {
      "image/png": "[encoded data removed]",
      "text/plain": [
       "<Figure size 432x288 with 1 Axes>"
      ]
     },
     "metadata": {
      "needs_background": "light"
     },
     "output_type": "display_data"
    }
   ],
   "source": [
    "# scatter plot of 'temperature' vs 'distress_ct'\n",
    "sc1 = sns.regplot(x = 'temperature',y = 'distress_ct',fit_reg = True, data = data)\n",
    "plt.xlabel('Temperature')\n",
    "plt.ylabel('Number of distressed O-rings')\n",
    "plt.title('Scatterplot for the Association Between Temperature and Number of Distressed O-rings')"
   ]
  },
  {
   "cell_type": "code",
   "execution_count": 7,
   "id": "a90ed394",
   "metadata": {},
   "outputs": [
    {
     "data": {
      "text/plain": [
       "Text(0.5, 1.0, 'Scatterplot for the Association Between Field Check Pressure and Number of Distressed O-rings')"
      ]
     },
     "execution_count": 7,
     "metadata": {},
     "output_type": "execute_result"
    },
    {
     "data": {
      "image/png": "[encoded data removed]",
      "text/plain": [
       "<Figure size 432x288 with 1 Axes>"
      ]
     },
     "metadata": {
      "needs_background": "light"
     },
     "output_type": "display_data"
    }
   ],
   "source": [
    "# scatter plot of 'pressure' vs 'distress_ct'\n",
    "sc2 = sns.regplot(x = 'pressure',y = 'distress_ct',fit_reg = True, data = data)\n",
    "plt.xlabel('pressure')\n",
    "plt.ylabel('Number of distressed O-rings')\n",
    "plt.title('Scatterplot for the Association Between Field Check Pressure and Number of Distressed O-rings')"
   ]
  },
  {
   "cell_type": "markdown",
   "id": "884ee4b2",
   "metadata": {},
   "source": [
    "## calculate the pearson correlation coefficients"
   ]
  },
  {
   "cell_type": "code",
   "execution_count": 13,
   "id": "b9e11bd7",
   "metadata": {},
   "outputs": [
    {
     "name": "stdout",
     "output_type": "stream",
     "text": [
      "Correlation between temperature and distress_ct\n",
      "--------------------------------------------- \n",
      "\n",
      "r-squared=  -0.7256709670512783 \n",
      "\n",
      "p-value =  8.895282013051324e-05\n"
     ]
    }
   ],
   "source": [
    "print('Correlation between temperature and distress_ct')\n",
    "print('--------------------------------------------- \\n')\n",
    "c1 = scipy.stats.pearsonr(data['temperature'],data['distress_ct'])\n",
    "print('r-squared= ',c1[0],\"\\n\")\n",
    "print('p-value = ',c1[1])"
   ]
  },
  {
   "cell_type": "code",
   "execution_count": 14,
   "id": "768df331",
   "metadata": {},
   "outputs": [
    {
     "name": "stdout",
     "output_type": "stream",
     "text": [
      "Correlation between pressure and distress_ct\n",
      "---------------------------------------------\n",
      "\n",
      "r-squared=  0.2203255844536119 \n",
      "\n",
      "p-value =  0.31239806939749104\n"
     ]
    }
   ],
   "source": [
    "print('Correlation between pressure and distress_ct')\n",
    "print('---------------------------------------------\\n')\n",
    "c1 = scipy.stats.pearsonr(data['pressure'],data['distress_ct'])\n",
    "print('r-squared= ',c1[0],\"\\n\")\n",
    "print('p-value = ',c1[1])"
   ]
  },
  {
   "cell_type": "markdown",
   "id": "91426b6a",
   "metadata": {},
   "source": [
    "### Last Result\n",
    "\n",
    "it can be seen that the number of distressed O-rings has a correlation coefficient **-0.72** with temperature and the number of distressed O-rings has a correlation coefficient **0.22** with field check pressure\n",
    "p-values show that the correlation between the number of distressed O-rings and temperature is significant (8.89e-50 < 0.05)\n",
    "since -0.72 is halfway to the maximum negative correlation of -1, this indicates the moderately strong negative linear relationship between the  distress_ct and temperature. \n",
    "This also implies a low temperature launch could be problematic for NASA engineers studying the O-ring data. Finally, 51% (= (-0.72)^2) of the variability in the number of distredded O-rings is described by variation in the temperature.\n",
    "\n"
   ]
  },
  {
   "cell_type": "code",
   "execution_count": null,
   "id": "b4c76a16",
   "metadata": {},
   "outputs": [],
   "source": []
  }
 ],
 "metadata": {
  "kernelspec": {
   "display_name": "Python 3 (ipykernel)",
   "language": "python",
   "name": "python3"
  },
  "language_info": {
   "codemirror_mode": {
    "name": "ipython",
    "version": 3
   },
   "file_extension": ".py",
   "mimetype": "text/x-python",
   "name": "python",
   "nbconvert_exporter": "python",
   "pygments_lexer": "ipython3",
   "version": "3.8.0"
  }
 },
 "nbformat": 4,
 "nbformat_minor": 5
}
