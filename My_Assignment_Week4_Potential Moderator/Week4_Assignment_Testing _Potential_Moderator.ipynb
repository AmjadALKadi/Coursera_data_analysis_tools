{
 "cells": [
  {
   "cell_type": "markdown",
   "id": "c8fbc025",
   "metadata": {},
   "source": [
    "## Alcohol consumption on the attractiveness of members of the opposite Gender ##\n"
   ]
  },
  {
   "cell_type": "code",
   "execution_count": 2,
   "id": "1dc52207",
   "metadata": {},
   "outputs": [],
   "source": [
    "import os\n",
    "import pandas as pd\n",
    "import statsmodels.formula.api as smf\n",
    "import statsmodels.stats.multicomp as multi\n",
    "import numpy as np\n",
    "import matplotlib.pyplot as plt\n"
   ]
  },
  {
   "cell_type": "markdown",
   "id": "1ff06f3d",
   "metadata": {},
   "source": [
    "the data contains the following columns:\n",
    "- **Gender**:  the Gender (Categorical/ Male, Female)\n",
    "- **Alcohol**: drink level (Categorical: 0,2,4).\n",
    "- **Attractiveness**: Numeric from 1 to 100.. \n"
   ]
  },
  {
   "cell_type": "code",
   "execution_count": 7,
   "id": "95087473",
   "metadata": {},
   "outputs": [
    {
     "data": {
      "text/html": [
       "<div>\n",
       "<style scoped>\n",
       "    .dataframe tbody tr th:only-of-type {\n",
       "        vertical-align: middle;\n",
       "    }\n",
       "\n",
       "    .dataframe tbody tr th {\n",
       "        vertical-align: top;\n",
       "    }\n",
       "\n",
       "    .dataframe thead th {\n",
       "        text-align: right;\n",
       "    }\n",
       "</style>\n",
       "<table border=\"1\" class=\"dataframe\">\n",
       "  <thead>\n",
       "    <tr style=\"text-align: right;\">\n",
       "      <th></th>\n",
       "      <th>Gender</th>\n",
       "      <th>Alcohol</th>\n",
       "      <th>Attractiveness</th>\n",
       "    </tr>\n",
       "  </thead>\n",
       "  <tbody>\n",
       "    <tr>\n",
       "      <th>0</th>\n",
       "      <td>Female</td>\n",
       "      <td>0</td>\n",
       "      <td>65</td>\n",
       "    </tr>\n",
       "    <tr>\n",
       "      <th>1</th>\n",
       "      <td>Female</td>\n",
       "      <td>0</td>\n",
       "      <td>70</td>\n",
       "    </tr>\n",
       "    <tr>\n",
       "      <th>2</th>\n",
       "      <td>Female</td>\n",
       "      <td>0</td>\n",
       "      <td>60</td>\n",
       "    </tr>\n",
       "    <tr>\n",
       "      <th>3</th>\n",
       "      <td>Female</td>\n",
       "      <td>0</td>\n",
       "      <td>60</td>\n",
       "    </tr>\n",
       "    <tr>\n",
       "      <th>4</th>\n",
       "      <td>Female</td>\n",
       "      <td>0</td>\n",
       "      <td>60</td>\n",
       "    </tr>\n",
       "  </tbody>\n",
       "</table>\n",
       "</div>"
      ],
      "text/plain": [
       "   Gender  Alcohol  Attractiveness\n",
       "0  Female        0              65\n",
       "1  Female        0              70\n",
       "2  Female        0              60\n",
       "3  Female        0              60\n",
       "4  Female        0              60"
      ]
     },
     "execution_count": 7,
     "metadata": {},
     "output_type": "execute_result"
    }
   ],
   "source": [
    "# import attractiveness data\n",
    "data = pd.read_csv(\"Alcohol_effects.csv\", sep =';')\n",
    "data.head()"
   ]
  },
  {
   "cell_type": "code",
   "execution_count": 8,
   "id": "9448dca7",
   "metadata": {},
   "outputs": [
    {
     "name": "stdout",
     "output_type": "stream",
     "text": [
      "<class 'pandas.core.frame.DataFrame'>\n",
      "RangeIndex: 48 entries, 0 to 47\n",
      "Data columns (total 3 columns):\n",
      " #   Column          Non-Null Count  Dtype \n",
      "---  ------          --------------  ----- \n",
      " 0   Gender          48 non-null     object\n",
      " 1   Alcohol         48 non-null     int64 \n",
      " 2   Attractiveness  48 non-null     int64 \n",
      "dtypes: int64(2), object(1)\n",
      "memory usage: 1.2+ KB\n"
     ]
    }
   ],
   "source": [
    "data = data.dropna()\n",
    "data.info()"
   ]
  },
  {
   "cell_type": "code",
   "execution_count": 10,
   "id": "ff2ce215",
   "metadata": {},
   "outputs": [
    {
     "name": "stdout",
     "output_type": "stream",
     "text": [
      "<class 'pandas.core.frame.DataFrame'>\n",
      "RangeIndex: 48 entries, 0 to 47\n",
      "Data columns (total 3 columns):\n",
      " #   Column          Non-Null Count  Dtype   \n",
      "---  ------          --------------  -----   \n",
      " 0   Gender          48 non-null     object  \n",
      " 1   Alcohol         48 non-null     category\n",
      " 2   Attractiveness  48 non-null     int64   \n",
      "dtypes: category(1), int64(1), object(1)\n",
      "memory usage: 1.1+ KB\n"
     ]
    }
   ],
   "source": [
    "# convert 'Alcohol' into categorical values\n",
    "data['Alcohol'] =data['Alcohol'].astype('category')\n",
    "data.info()"
   ]
  },
  {
   "cell_type": "code",
   "execution_count": 11,
   "id": "8be56208",
   "metadata": {},
   "outputs": [
    {
     "data": {
      "text/html": [
       "<div>\n",
       "<style scoped>\n",
       "    .dataframe tbody tr th:only-of-type {\n",
       "        vertical-align: middle;\n",
       "    }\n",
       "\n",
       "    .dataframe tbody tr th {\n",
       "        vertical-align: top;\n",
       "    }\n",
       "\n",
       "    .dataframe thead th {\n",
       "        text-align: right;\n",
       "    }\n",
       "</style>\n",
       "<table border=\"1\" class=\"dataframe\">\n",
       "  <thead>\n",
       "    <tr style=\"text-align: right;\">\n",
       "      <th></th>\n",
       "      <th>Attractiveness</th>\n",
       "    </tr>\n",
       "    <tr>\n",
       "      <th>Alcohol</th>\n",
       "      <th></th>\n",
       "    </tr>\n",
       "  </thead>\n",
       "  <tbody>\n",
       "    <tr>\n",
       "      <th>0</th>\n",
       "      <td>63.7500</td>\n",
       "    </tr>\n",
       "    <tr>\n",
       "      <th>2</th>\n",
       "      <td>64.6875</td>\n",
       "    </tr>\n",
       "    <tr>\n",
       "      <th>4</th>\n",
       "      <td>46.5625</td>\n",
       "    </tr>\n",
       "  </tbody>\n",
       "</table>\n",
       "</div>"
      ],
      "text/plain": [
       "         Attractiveness\n",
       "Alcohol                \n",
       "0               63.7500\n",
       "2               64.6875\n",
       "4               46.5625"
      ]
     },
     "execution_count": 11,
     "metadata": {},
     "output_type": "execute_result"
    }
   ],
   "source": [
    "# lets calucted the means for each consumption of Alcohol\n",
    "\n",
    "mean_co = data.groupby('Alcohol').mean()\n",
    "mean_co"
   ]
  },
  {
   "cell_type": "markdown",
   "id": "2fab0d08",
   "metadata": {},
   "source": [
    "We first do an ANOVA test without taking into account the gender variable.\n",
    "  We perform a one-way ANOVA using 'Attractiveness' and 'Alcohol'. Average attractiveness for each level of alcohol consumption   is 0  mean =  63.7500,\n",
    "     2 mean = 64.6875, \n",
    "     4 mean = 46.5625.\n",
    "  \n",
    "Attractiveness increases as Alcohol is drank from 0 to 2,\n",
    "but decreases as Alcohol is drank from 2 to 4. \n",
    "In other words, drinking beer causes its attractiveness to decrease. \n",
    "\n"
   ]
  },
  {
   "cell_type": "markdown",
   "id": "dec2bbaa",
   "metadata": {},
   "source": [
    "### Anova Test"
   ]
  },
  {
   "cell_type": "code",
   "execution_count": 12,
   "id": "3c30a07d",
   "metadata": {},
   "outputs": [
    {
     "name": "stdout",
     "output_type": "stream",
     "text": [
      "                            OLS Regression Results                            \n",
      "==============================================================================\n",
      "Dep. Variable:         Attractiveness   R-squared:                       0.372\n",
      "Model:                            OLS   Adj. R-squared:                  0.344\n",
      "Method:                 Least Squares   F-statistic:                     13.31\n",
      "Date:                Wed, 28 Dec 2022   Prob (F-statistic):           2.88e-05\n",
      "Time:                        12:02:19   Log-Likelihood:                -182.48\n",
      "No. Observations:                  48   AIC:                             371.0\n",
      "Df Residuals:                      45   BIC:                             376.6\n",
      "Df Model:                           2                                         \n",
      "Covariance Type:            nonrobust                                         \n",
      "================================================================================\n",
      "                   coef    std err          t      P>|t|      [0.025      0.975]\n",
      "--------------------------------------------------------------------------------\n",
      "Intercept       63.7500      2.797     22.789      0.000      58.116      69.384\n",
      "Alcohol[T.2]     0.9375      3.956      0.237      0.814      -7.031       8.906\n",
      "Alcohol[T.4]   -17.1875      3.956     -4.345      0.000     -25.156      -9.219\n",
      "==============================================================================\n",
      "Omnibus:                        0.105   Durbin-Watson:                   1.121\n",
      "Prob(Omnibus):                  0.949   Jarque-Bera (JB):                0.234\n",
      "Skew:                          -0.100   Prob(JB):                        0.890\n",
      "Kurtosis:                       2.722   Cond. No.                         3.73\n",
      "==============================================================================\n",
      "\n",
      "Notes:\n",
      "[1] Standard Errors assume that the covariance matrix of the errors is correctly specified.\n"
     ]
    }
   ],
   "source": [
    "model = smf.ols(formula = \"Attractiveness ~ Alcohol\", data = data).fit()\n",
    "print(model.summary())"
   ]
  },
  {
   "cell_type": "markdown",
   "id": "eb5becc5",
   "metadata": {},
   "source": [
    "ANOVA Result :\n",
    "\n",
    "F statistic = 13.31 \n",
    "\n",
    "p-value = 2.88e-05 \n",
    "\n",
    "indicating a rejection of the null hypothesis that there is no difference in gravitationalities for different levels of alcohol consumption.\n",
    "\n",
    "There is ample evidence to suggest that different levels of alcohol consumption result in different average attractiveness ratings in conversation partners."
   ]
  },
  {
   "cell_type": "markdown",
   "id": "23afe463",
   "metadata": {},
   "source": [
    "Since we reject the null hypothesis, \n",
    "a post hoc test is conducted as follows. We can see that the mean attractiveness of 0 pint vs 2 pint has no difference, but mean attractiveness of 0 pint vs 4 pints, 2 pints vs 4 pints are significantly different."
   ]
  },
  {
   "cell_type": "code",
   "execution_count": 13,
   "id": "48ef2e26",
   "metadata": {},
   "outputs": [
    {
     "name": "stdout",
     "output_type": "stream",
     "text": [
      " Multiple Comparison of Means - Tukey HSD, FWER=0.05 \n",
      "=====================================================\n",
      "group1 group2 meandiff p-adj   lower    upper  reject\n",
      "-----------------------------------------------------\n",
      "     0      2   0.9375 0.9695  -8.6507 10.5257  False\n",
      "     0      4 -17.1875 0.0002 -26.7757 -7.5993   True\n",
      "     2      4  -18.125 0.0001 -27.7132 -8.5368   True\n",
      "-----------------------------------------------------\n"
     ]
    }
   ],
   "source": [
    " mc = multi.MultiComparison(data['Attractiveness'],data['Alcohol'])\n",
    "print(mc.tukeyhsd().summary())"
   ]
  },
  {
   "cell_type": "markdown",
   "id": "58e30512",
   "metadata": {},
   "source": [
    "We now consider 'Gender' as the potential moderator that may affect the association between attractiveness and alcohol consumption. In other words, we run an ANOVA on \"attractiveness\" and \"Alcohol\" for different gender. "
   ]
  },
  {
   "cell_type": "markdown",
   "id": "efd2f6b8",
   "metadata": {},
   "source": [
    "We divide the data into **MALE** and **FEMALE**"
   ]
  },
  {
   "cell_type": "code",
   "execution_count": 14,
   "id": "f04174c8",
   "metadata": {},
   "outputs": [],
   "source": [
    "data_male = data[(data['Gender'] == 'Male')]\n",
    "data_female = data[(data['Gender'] == 'Female')]"
   ]
  },
  {
   "cell_type": "markdown",
   "id": "7d649eb6",
   "metadata": {},
   "source": [
    "### Anova test for Male"
   ]
  },
  {
   "cell_type": "code",
   "execution_count": 15,
   "id": "f1b3b973",
   "metadata": {},
   "outputs": [
    {
     "name": "stdout",
     "output_type": "stream",
     "text": [
      "         Attractiveness\n",
      "Alcohol                \n",
      "0                66.875\n",
      "2                66.875\n",
      "4                35.625\n"
     ]
    }
   ],
   "source": [
    "act_mean_male = data_male.groupby(\"Alcohol\").mean()\n",
    "print(act_mean_male)"
   ]
  },
  {
   "cell_type": "code",
   "execution_count": 17,
   "id": "a58e9ae9",
   "metadata": {},
   "outputs": [
    {
     "name": "stdout",
     "output_type": "stream",
     "text": [
      "                            OLS Regression Results                            \n",
      "==============================================================================\n",
      "Dep. Variable:         Attractiveness   R-squared:                       0.661\n",
      "Model:                            OLS   Adj. R-squared:                  0.629\n",
      "Method:                 Least Squares   F-statistic:                     20.52\n",
      "Date:                Wed, 28 Dec 2022   Prob (F-statistic):           1.15e-05\n",
      "Time:                        12:10:10   Log-Likelihood:                -90.576\n",
      "No. Observations:                  24   AIC:                             187.2\n",
      "Df Residuals:                      21   BIC:                             190.7\n",
      "Df Model:                           2                                         \n",
      "Covariance Type:            nonrobust                                         \n",
      "================================================================================\n",
      "                   coef    std err          t      P>|t|      [0.025      0.975]\n",
      "--------------------------------------------------------------------------------\n",
      "Intercept       66.8750      3.983     16.789      0.000      58.591      75.159\n",
      "Alcohol[T.2] -3.331e-15      5.633  -5.91e-16      1.000     -11.715      11.715\n",
      "Alcohol[T.4]   -31.2500      5.633     -5.547      0.000     -42.965     -19.535\n",
      "==============================================================================\n",
      "Omnibus:                        0.122   Durbin-Watson:                   1.914\n",
      "Prob(Omnibus):                  0.941   Jarque-Bera (JB):                0.337\n",
      "Skew:                          -0.076   Prob(JB):                        0.845\n",
      "Kurtosis:                       2.440   Cond. No.                         3.73\n",
      "==============================================================================\n",
      "\n",
      "Notes:\n",
      "[1] Standard Errors assume that the covariance matrix of the errors is correctly specified.\n"
     ]
    }
   ],
   "source": [
    "model_m = smf.ols(formula = \"Attractiveness ~ Alcohol\", data = data_male).fit()\n",
    ">>> print(model_m.summary())"
   ]
  },
  {
   "cell_type": "markdown",
   "id": "36f62ad0",
   "metadata": {},
   "source": [
    "The **ANOVA** result for Male:\n",
    "\n",
    "F-statistic= 20.52 \n",
    "\n",
    "p-value = 1.15e-05 \n",
    "\n",
    "indicating different levels of alcohol consumption yields a different mean attractiveness rating in conversation partners for males"
   ]
  },
  {
   "cell_type": "markdown",
   "id": "de5d0a59",
   "metadata": {},
   "source": [
    "### Anova test for Female"
   ]
  },
  {
   "cell_type": "code",
   "execution_count": 18,
   "id": "39d77f60",
   "metadata": {},
   "outputs": [
    {
     "name": "stdout",
     "output_type": "stream",
     "text": [
      "         Attractiveness\n",
      "Alcohol                \n",
      "0                60.625\n",
      "2                62.500\n",
      "4                57.500\n"
     ]
    }
   ],
   "source": [
    "act_mean_female = data_female.groupby(\"Alcohol\").mean()\n",
    "print(act_mean_female)"
   ]
  },
  {
   "cell_type": "code",
   "execution_count": 19,
   "id": "5a3c6737",
   "metadata": {},
   "outputs": [
    {
     "name": "stdout",
     "output_type": "stream",
     "text": [
      "                            OLS Regression Results                            \n",
      "==============================================================================\n",
      "Dep. Variable:         Attractiveness   R-squared:                       0.110\n",
      "Model:                            OLS   Adj. R-squared:                  0.026\n",
      "Method:                 Least Squares   F-statistic:                     1.304\n",
      "Date:                Wed, 28 Dec 2022   Prob (F-statistic):              0.292\n",
      "Time:                        12:12:47   Log-Likelihood:                -76.457\n",
      "No. Observations:                  24   AIC:                             158.9\n",
      "Df Residuals:                      21   BIC:                             162.4\n",
      "Df Model:                           2                                         \n",
      "Covariance Type:            nonrobust                                         \n",
      "================================================================================\n",
      "                   coef    std err          t      P>|t|      [0.025      0.975]\n",
      "--------------------------------------------------------------------------------\n",
      "Intercept       60.6250      2.212     27.410      0.000      56.025      65.225\n",
      "Alcohol[T.2]     1.8750      3.128      0.599      0.555      -4.630       8.380\n",
      "Alcohol[T.4]    -3.1250      3.128     -0.999      0.329      -9.630       3.380\n",
      "==============================================================================\n",
      "Omnibus:                        0.221   Durbin-Watson:                   1.518\n",
      "Prob(Omnibus):                  0.895   Jarque-Bera (JB):                0.258\n",
      "Skew:                           0.192   Prob(JB):                        0.879\n",
      "Kurtosis:                       2.668   Cond. No.                         3.73\n",
      "==============================================================================\n",
      "\n",
      "Notes:\n",
      "[1] Standard Errors assume that the covariance matrix of the errors is correctly specified.\n"
     ]
    }
   ],
   "source": [
    "model_f = smf.ols(formula = \"Attractiveness ~ Alcohol\", data = data_female).fit()\n",
    ">>> print(model_f.summary())"
   ]
  },
  {
   "cell_type": "markdown",
   "id": "f7efc27a",
   "metadata": {},
   "source": [
    "the ANOVA result for Female : \n",
    "\n",
    "F-statistic= 1.304\n",
    "\n",
    "p-value = 0.292\n",
    "\n",
    " there is no difference in attractiveness rating for different alcohol consumption for females. \n",
    " \n",
    " In summary, the average attractiveness for females for the three levels of alcohol is almost the same. \n",
    " Nevertheless, for males the difference in average attractiveness for the three levels is quite different. This indicates gender is a moderator. "
   ]
  },
  {
   "cell_type": "markdown",
   "id": "1898b580",
   "metadata": {},
   "source": [
    "### plot the Moderator"
   ]
  },
  {
   "cell_type": "markdown",
   "id": "7d547582",
   "metadata": {},
   "source": [
    "Let's  see the moderator (interaction) \"gender\" with \"Alcohol\",\n",
    "we look at the interaction graph which confirms the existness of interaction between \"Gender\" and \"Alchohl\"."
   ]
  },
  {
   "cell_type": "code",
   "execution_count": 21,
   "id": "79b89b0c",
   "metadata": {},
   "outputs": [
    {
     "data": {
      "text/plain": [
       "Text(0.5, 1.0, 'Mean plot of attractiveness for Male and Female')"
      ]
     },
     "execution_count": 21,
     "metadata": {},
     "output_type": "execute_result"
    },
    {
     "data": {
      "image/png": "[encoded data removed]",
      "text/plain": [
       "<Figure size 432x288 with 1 Axes>"
      ]
     },
     "metadata": {
      "needs_background": "light"
     },
     "output_type": "display_data"
    }
   ],
   "source": [
    "p1, = plt.plot(np.array([0,2,4]), act_mean_male.Attractiveness.values)\n",
    "p2, = plt.plot(np.array([0,2,4]), act_mean_female.Attractiveness.values)\n",
    "plt.xlim([-2,5])\n",
    "plt.legend([p1,p2],['Male','Female'],loc = 'lower left')\n",
    "plt.xlabel(\"Alcohol\")\n",
    "plt.ylabel(\"Attractiveness\")\n",
    "plt.title(\"Mean plot of attractiveness for Male and Female\")"
   ]
  },
  {
   "cell_type": "code",
   "execution_count": null,
   "id": "5aa4868b",
   "metadata": {},
   "outputs": [],
   "source": []
  }
 ],
 "metadata": {
  "kernelspec": {
   "display_name": "Python 3 (ipykernel)",
   "language": "python",
   "name": "python3"
  },
  "language_info": {
   "codemirror_mode": {
    "name": "ipython",
    "version": 3
   },
   "file_extension": ".py",
   "mimetype": "text/x-python",
   "name": "python",
   "nbconvert_exporter": "python",
   "pygments_lexer": "ipython3",
   "version": "3.8.0"
  }
 },
 "nbformat": 4,
 "nbformat_minor": 5
}
