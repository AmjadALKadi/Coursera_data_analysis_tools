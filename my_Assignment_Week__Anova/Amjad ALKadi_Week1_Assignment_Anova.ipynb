{
 "cells": [
  {
   "cell_type": "code",
   "execution_count": 1,
   "id": "a31b84da",
   "metadata": {},
   "outputs": [],
   "source": [
    "import pandas as pd\n",
    "import numpy as np\n",
    "import seaborn as sns\n",
    "import matplotlib.pyplot as plt\n",
    "import statsmodels.formula.api as smf\n",
    "import statsmodels.stats.multicomp as multi"
   ]
  },
  {
   "cell_type": "markdown",
   "id": "532735c6",
   "metadata": {},
   "source": [
    "# Preparing and Transforming Data"
   ]
  },
  {
   "cell_type": "code",
   "execution_count": 6,
   "id": "dbcb5547",
   "metadata": {},
   "outputs": [
    {
     "data": {
      "text/html": [
       "<div>\n",
       "<style scoped>\n",
       "    .dataframe tbody tr th:only-of-type {\n",
       "        vertical-align: middle;\n",
       "    }\n",
       "\n",
       "    .dataframe tbody tr th {\n",
       "        vertical-align: top;\n",
       "    }\n",
       "\n",
       "    .dataframe thead th {\n",
       "        text-align: right;\n",
       "    }\n",
       "</style>\n",
       "<table border=\"1\" class=\"dataframe\">\n",
       "  <thead>\n",
       "    <tr style=\"text-align: right;\">\n",
       "      <th></th>\n",
       "      <th>datetime</th>\n",
       "      <th>season</th>\n",
       "      <th>holiday</th>\n",
       "      <th>workingday</th>\n",
       "      <th>weather</th>\n",
       "      <th>temp</th>\n",
       "      <th>atemp</th>\n",
       "      <th>humidity</th>\n",
       "      <th>windspeed</th>\n",
       "      <th>casual</th>\n",
       "      <th>registered</th>\n",
       "      <th>count_col</th>\n",
       "    </tr>\n",
       "  </thead>\n",
       "  <tbody>\n",
       "    <tr>\n",
       "      <th>0</th>\n",
       "      <td>2011-01-01 00:00:00</td>\n",
       "      <td>1</td>\n",
       "      <td>0</td>\n",
       "      <td>0</td>\n",
       "      <td>1</td>\n",
       "      <td>9.84</td>\n",
       "      <td>14.395</td>\n",
       "      <td>81</td>\n",
       "      <td>0.0</td>\n",
       "      <td>3</td>\n",
       "      <td>13</td>\n",
       "      <td>16</td>\n",
       "    </tr>\n",
       "    <tr>\n",
       "      <th>1</th>\n",
       "      <td>2011-01-01 01:00:00</td>\n",
       "      <td>1</td>\n",
       "      <td>0</td>\n",
       "      <td>0</td>\n",
       "      <td>1</td>\n",
       "      <td>9.02</td>\n",
       "      <td>13.635</td>\n",
       "      <td>80</td>\n",
       "      <td>0.0</td>\n",
       "      <td>8</td>\n",
       "      <td>32</td>\n",
       "      <td>40</td>\n",
       "    </tr>\n",
       "    <tr>\n",
       "      <th>2</th>\n",
       "      <td>2011-01-01 02:00:00</td>\n",
       "      <td>1</td>\n",
       "      <td>0</td>\n",
       "      <td>0</td>\n",
       "      <td>1</td>\n",
       "      <td>9.02</td>\n",
       "      <td>13.635</td>\n",
       "      <td>80</td>\n",
       "      <td>0.0</td>\n",
       "      <td>5</td>\n",
       "      <td>27</td>\n",
       "      <td>32</td>\n",
       "    </tr>\n",
       "    <tr>\n",
       "      <th>3</th>\n",
       "      <td>2011-01-01 03:00:00</td>\n",
       "      <td>1</td>\n",
       "      <td>0</td>\n",
       "      <td>0</td>\n",
       "      <td>1</td>\n",
       "      <td>9.84</td>\n",
       "      <td>14.395</td>\n",
       "      <td>75</td>\n",
       "      <td>0.0</td>\n",
       "      <td>3</td>\n",
       "      <td>10</td>\n",
       "      <td>13</td>\n",
       "    </tr>\n",
       "    <tr>\n",
       "      <th>4</th>\n",
       "      <td>2011-01-01 04:00:00</td>\n",
       "      <td>1</td>\n",
       "      <td>0</td>\n",
       "      <td>0</td>\n",
       "      <td>1</td>\n",
       "      <td>9.84</td>\n",
       "      <td>14.395</td>\n",
       "      <td>75</td>\n",
       "      <td>0.0</td>\n",
       "      <td>0</td>\n",
       "      <td>1</td>\n",
       "      <td>1</td>\n",
       "    </tr>\n",
       "  </tbody>\n",
       "</table>\n",
       "</div>"
      ],
      "text/plain": [
       "              datetime  season  holiday  workingday  weather  temp   atemp  \\\n",
       "0  2011-01-01 00:00:00       1        0           0        1  9.84  14.395   \n",
       "1  2011-01-01 01:00:00       1        0           0        1  9.02  13.635   \n",
       "2  2011-01-01 02:00:00       1        0           0        1  9.02  13.635   \n",
       "3  2011-01-01 03:00:00       1        0           0        1  9.84  14.395   \n",
       "4  2011-01-01 04:00:00       1        0           0        1  9.84  14.395   \n",
       "\n",
       "   humidity  windspeed  casual  registered  count_col  \n",
       "0        81        0.0       3          13         16  \n",
       "1        80        0.0       8          32         40  \n",
       "2        80        0.0       5          27         32  \n",
       "3        75        0.0       3          10         13  \n",
       "4        75        0.0       0           1          1  "
      ]
     },
     "execution_count": 6,
     "metadata": {},
     "output_type": "execute_result"
    }
   ],
   "source": [
    "data = pd.read_csv('bike_train_data.csv')\n",
    "data = data.rename({'count':'count_col'},axis=1)\n",
    "data.head()"
   ]
  },
  {
   "cell_type": "code",
   "execution_count": 8,
   "id": "8d46bebb",
   "metadata": {},
   "outputs": [],
   "source": [
    "data['season'] = data['season'].map({  1:'spring', 2:'summer', 3:'fall', 4:'winter' })"
   ]
  },
  {
   "cell_type": "code",
   "execution_count": 9,
   "id": "3f248675",
   "metadata": {},
   "outputs": [
    {
     "data": {
      "image/png": "[encoded data removed]",
      "text/plain": [
       "<Figure size 432x288 with 1 Axes>"
      ]
     },
     "metadata": {
      "needs_background": "light"
     },
     "output_type": "display_data"
    }
   ],
   "source": [
    "#show_season_as_boxplot\n",
    "sns.boxplot(x='season', y='count_col', data=data)\n",
    "plt.show()"
   ]
  },
  {
   "cell_type": "code",
   "execution_count": 11,
   "id": "26915c9b",
   "metadata": {},
   "outputs": [
    {
     "name": "stdout",
     "output_type": "stream",
     "text": [
      "Means of Counts col by Each Season:\n"
     ]
    },
    {
     "data": {
      "text/html": [
       "<div>\n",
       "<style scoped>\n",
       "    .dataframe tbody tr th:only-of-type {\n",
       "        vertical-align: middle;\n",
       "    }\n",
       "\n",
       "    .dataframe tbody tr th {\n",
       "        vertical-align: top;\n",
       "    }\n",
       "\n",
       "    .dataframe thead th {\n",
       "        text-align: right;\n",
       "    }\n",
       "</style>\n",
       "<table border=\"1\" class=\"dataframe\">\n",
       "  <thead>\n",
       "    <tr style=\"text-align: right;\">\n",
       "      <th></th>\n",
       "      <th>mean</th>\n",
       "      <th>std</th>\n",
       "    </tr>\n",
       "    <tr>\n",
       "      <th>season</th>\n",
       "      <th></th>\n",
       "      <th></th>\n",
       "    </tr>\n",
       "  </thead>\n",
       "  <tbody>\n",
       "    <tr>\n",
       "      <th>fall</th>\n",
       "      <td>234.417124</td>\n",
       "      <td>197.151001</td>\n",
       "    </tr>\n",
       "    <tr>\n",
       "      <th>spring</th>\n",
       "      <td>116.343261</td>\n",
       "      <td>125.273974</td>\n",
       "    </tr>\n",
       "    <tr>\n",
       "      <th>summer</th>\n",
       "      <td>215.251372</td>\n",
       "      <td>192.007843</td>\n",
       "    </tr>\n",
       "    <tr>\n",
       "      <th>winter</th>\n",
       "      <td>198.988296</td>\n",
       "      <td>177.622409</td>\n",
       "    </tr>\n",
       "  </tbody>\n",
       "</table>\n",
       "</div>"
      ],
      "text/plain": [
       "              mean         std\n",
       "season                        \n",
       "fall    234.417124  197.151001\n",
       "spring  116.343261  125.273974\n",
       "summer  215.251372  192.007843\n",
       "winter  198.988296  177.622409"
      ]
     },
     "execution_count": 11,
     "metadata": {},
     "output_type": "execute_result"
    }
   ],
   "source": [
    "print('Means of Counts col by Each Season:')\n",
    "data.groupby('season')['count_col'].agg(['mean','std'])"
   ]
  },
  {
   "cell_type": "code",
   "execution_count": 12,
   "id": "ffec7bee",
   "metadata": {},
   "outputs": [
    {
     "data": {
      "text/plain": [
       "{0: 'fall', 1: 'spring', 2: 'summer', 3: 'winter'}"
      ]
     },
     "execution_count": 12,
     "metadata": {},
     "output_type": "execute_result"
    }
   ],
   "source": [
    "data['season'] = data['season'].astype('category')\n",
    "season_map = dict(enumerate(data['season'].cat.categories))\n",
    "data['season'] = data['season'].cat.codes\n",
    "\n",
    "season_map"
   ]
  },
  {
   "cell_type": "markdown",
   "id": "5b2a7630",
   "metadata": {},
   "source": [
    "# Anova Test"
   ]
  },
  {
   "cell_type": "code",
   "execution_count": 13,
   "id": "469f7059",
   "metadata": {},
   "outputs": [
    {
     "name": "stdout",
     "output_type": "stream",
     "text": [
      "Fit an OLS Regression:\n",
      "                            OLS Regression Results                            \n",
      "==============================================================================\n",
      "Dep. Variable:              count_col   R-squared:                       0.061\n",
      "Model:                            OLS   Adj. R-squared:                  0.061\n",
      "Method:                 Least Squares   F-statistic:                     236.9\n",
      "Date:                Tue, 20 Dec 2022   Prob (F-statistic):          6.16e-149\n",
      "Time:                        13:28:55   Log-Likelihood:                -71701.\n",
      "No. Observations:               10886   AIC:                         1.434e+05\n",
      "Df Residuals:                   10882   BIC:                         1.434e+05\n",
      "Df Model:                           3                                         \n",
      "Covariance Type:            nonrobust                                         \n",
      "==================================================================================\n",
      "                     coef    std err          t      P>|t|      [0.025      0.975]\n",
      "----------------------------------------------------------------------------------\n",
      "Intercept        234.4171      3.358     69.818      0.000     227.836     240.999\n",
      "C(season)[T.1]  -118.0739      4.769    -24.758      0.000    -127.422    -108.726\n",
      "C(season)[T.2]   -19.1658      4.748     -4.036      0.000     -28.473      -9.858\n",
      "C(season)[T.3]   -35.4288      4.748     -7.462      0.000     -44.736     -26.122\n",
      "==============================================================================\n",
      "Omnibus:                     1896.059   Durbin-Watson:                   0.337\n",
      "Prob(Omnibus):                  0.000   Jarque-Bera (JB):             3190.509\n",
      "Skew:                           1.156   Prob(JB):                         0.00\n",
      "Kurtosis:                       4.299   Cond. No.                         4.78\n",
      "==============================================================================\n",
      "\n",
      "Notes:\n",
      "[1] Standard Errors assume that the covariance matrix of the errors is correctly specified.\n"
     ]
    }
   ],
   "source": [
    "print('Fit an OLS Regression:')\n",
    "model = smf.ols(formula='count_col ~ C(season)', data=data).fit()\n",
    "print (model.summary())"
   ]
  },
  {
   "cell_type": "markdown",
   "id": "12a81251",
   "metadata": {},
   "source": [
    "### ANOVA test Inference:\n",
    "The p-value of the test is 6.16e-149(approximately 0), we fail to accept the Null Hypothesis and infer that the count of rentals on an avergae do differ for each season."
   ]
  },
  {
   "cell_type": "markdown",
   "id": "90a5982f",
   "metadata": {},
   "source": [
    "#  Tukey HSD Test"
   ]
  },
  {
   "cell_type": "code",
   "execution_count": 14,
   "id": "281dd840",
   "metadata": {},
   "outputs": [
    {
     "name": "stdout",
     "output_type": "stream",
     "text": [
      "----Tukey Test Post Hoc----\n",
      "   Multiple Comparison of Means - Tukey HSD, FWER=0.05   \n",
      "=========================================================\n",
      "group1 group2  meandiff p-adj    lower     upper   reject\n",
      "---------------------------------------------------------\n",
      "     0      1 -118.0739   -0.0 -130.3276 -105.8202   True\n",
      "     0      2  -19.1658 0.0003  -31.3662   -6.9653   True\n",
      "     0      3  -35.4288   -0.0  -47.6282  -23.2295   True\n",
      "     1      2   98.9081   -0.0   86.6544  111.1618   True\n",
      "     1      3    82.645   -0.0   70.3924   94.8976   True\n",
      "     2      3  -16.2631 0.0034  -28.4624   -4.0637   True\n",
      "---------------------------------------------------------\n"
     ]
    }
   ],
   "source": [
    "print('----Tukey Test Post Hoc----')\n",
    "model2= multi.MultiComparison(data['count_col'], data['season'])\n",
    "res1 = model2.tukeyhsd()\n",
    "print(res1.summary())"
   ]
  },
  {
   "cell_type": "markdown",
   "id": "d9ed5be8",
   "metadata": {},
   "source": [
    "### Tukey HSD Test  Inference:\n",
    "The count of rentals actually differ for each pairs of seasons on an average **(reject=true)**."
   ]
  },
  {
   "cell_type": "code",
   "execution_count": null,
   "id": "bd7608bb",
   "metadata": {},
   "outputs": [],
   "source": []
  }
 ],
 "metadata": {
  "kernelspec": {
   "display_name": "Python 3 (ipykernel)",
   "language": "python",
   "name": "python3"
  },
  "language_info": {
   "codemirror_mode": {
    "name": "ipython",
    "version": 3
   },
   "file_extension": ".py",
   "mimetype": "text/x-python",
   "name": "python",
   "nbconvert_exporter": "python",
   "pygments_lexer": "ipython3",
   "version": "3.8.0"
  }
 },
 "nbformat": 4,
 "nbformat_minor": 5
}
